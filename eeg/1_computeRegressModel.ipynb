{
 "cells": [
  {
   "cell_type": "markdown",
   "metadata": {},
   "source": [
    "# Fit model."
   ]
  },
  {
   "cell_type": "code",
   "execution_count": null,
   "metadata": {},
   "outputs": [],
   "source": [
    "import os\n",
    "import glob\n",
    "import numpy as np\n",
    "import matplotlib.pyplot as plt\n",
    "import mne"
   ]
  },
  {
   "cell_type": "markdown",
   "metadata": {},
   "source": [
    "### Parameters."
   ]
  },
  {
   "cell_type": "code",
   "execution_count": null,
   "metadata": {},
   "outputs": [],
   "source": [
    "reject = None \n",
    "tmin, tmax = (-1.25, 0.55)\n",
    "sfreq = 128\n",
    "n_channels = 2 # We use the MCCA output\n",
    "colors = ['#ff7f0e', '#1f77b4']"
   ]
  },
  {
   "cell_type": "markdown",
   "metadata": {},
   "source": [
    "### Import data."
   ]
  },
  {
   "cell_type": "code",
   "execution_count": null,
   "metadata": {},
   "outputs": [],
   "source": [
    "# Behavior (sequences)\n",
    "dname_seq = '/media/jacques/DATA1/2019_MusicPred/experimentContinuousMatrix/data/behavior/'\n",
    "DEC = np.load(dname_seq + 'DEC.npy')\n",
    "MUSICIANS = np.load(dname_seq + 'MUSICIANS.npy')\n",
    "SEQS = np.load(dname_seq + 'SEQS.npy')\n",
    "SEQS_TRAINING = np.load(dname_seq + 'SEQS_TRAINING.npy')\n",
    "sujs = np.load(dname_seq + 'sujs.npy', allow_pickle=True)\n",
    "n_sujs = len(sujs)\n",
    "n_dec = SEQS_TRAINING.shape[1]\n",
    "SEQS.shape"
   ]
  },
  {
   "cell_type": "code",
   "execution_count": null,
   "metadata": {},
   "outputs": [],
   "source": [
    "# Model data\n",
    "SURPRISE_FITTED = np.load(dname_seq + 'SURPRISE_FITTED.npy')\n",
    "SURPRISE_FITTED = np.reshape(SURPRISE_FITTED, (n_sujs, -1))"
   ]
  },
  {
   "cell_type": "code",
   "execution_count": null,
   "metadata": {},
   "outputs": [],
   "source": [
    "# EEG files\n",
    "data_dir = '/media/jacques/DATA1/2019_MusicPred/experimentContinuousMatrix/data/eeg/ERP/'\n",
    "ch_names = list(np.load(data_dir + 'ch_names.npy'))\n",
    "ERP = np.load(data_dir + 'aSC_clean.npy')\n",
    "info = np.load(data_dir + 'info.npy', allow_pickle=True, encoding='latin1').item()\n",
    "_, n_seqs, n_tones, n_channels, n_times = ERP.shape\n",
    "ERP.shape"
   ]
  },
  {
   "cell_type": "markdown",
   "metadata": {},
   "source": [
    "### Build a function to perform linear regression."
   ]
  },
  {
   "cell_type": "code",
   "execution_count": null,
   "metadata": {},
   "outputs": [],
   "source": [
    "def regressModel(erp, predictors):\n",
    "    '''\n",
    "    Regress model surprise on all time points and channels. \n",
    "    Return regression coefficients and -log10(p-values)\n",
    "    '''\n",
    "    \n",
    "    import numpy as np\n",
    "    import statsmodels.api as sm\n",
    "    \n",
    "    # Get dimensions\n",
    "    _, n_channels, n_times = erp.shape\n",
    "    predictors = np.atleast_2d(predictors).T\n",
    "    n_predictors = predictors.shape[1]\n",
    "    \n",
    "    # Initiate arrays\n",
    "    BETA = np.zeros((n_predictors, n_channels, n_times))\n",
    "    P_VALUES = np.zeros((n_predictors, n_channels, n_times))\n",
    "    R2 = np.zeros((n_channels, n_times))\n",
    "\n",
    "    # Predictor\n",
    "    X = sm.add_constant(predictors)\n",
    "\n",
    "    # Fit model for every point in time and space\n",
    "    for i in range(n_times):\n",
    "        for j in range(n_channels):\n",
    "\n",
    "            # Fit and summarize OLS model\n",
    "            y = erp[:, j, i]\n",
    "            mod = sm.OLS(y, X)\n",
    "            res = mod.fit()\n",
    "            BETA[:, j, i] = res.params[1:] # Remove intercept\n",
    "            P_VALUES[:, j, i] = res.pvalues[1:] # Remove intercept\n",
    "            R2[j, i] = res.rsquared\n",
    "    \n",
    "    # Return\n",
    "    return np.squeeze(BETA), np.squeeze(P_VALUES), np.squeeze(R2)"
   ]
  },
  {
   "cell_type": "markdown",
   "metadata": {},
   "source": [
    "### Perform linear regression for all subjects."
   ]
  },
  {
   "cell_type": "code",
   "execution_count": null,
   "metadata": {},
   "outputs": [],
   "source": [
    "BETAS = np.full((n_sujs, n_channels, n_times), np.nan)\n",
    "R2 = np.full((n_sujs, n_channels, n_times), np.nan)\n",
    "BETAS.shape"
   ]
  },
  {
   "cell_type": "code",
   "execution_count": null,
   "metadata": {},
   "outputs": [],
   "source": [
    "for i, suj in enumerate(sujs):\n",
    "    \n",
    "    # Load data\n",
    "    _erp = np.reshape(ERP[i], (-1, n_channels, n_times))\n",
    "    _surprise = np.reshape(SURPRISE_FITTED[i], (-1))\n",
    "    \n",
    "    # Remove NaNs\n",
    "    idx = np.logical_and(np.logical_not(np.isnan(_surprise)), \n",
    "                         np.logical_not(np.any(np.isnan(_erp), axis=(1, 2))))\n",
    "    _erp = _erp[idx]\n",
    "    _surprise = _surprise[idx]\n",
    "    if _erp.size == 0: print('error ', i)\n",
    "    \n",
    "    # Compute LinearRegression\n",
    "    BETAS[i], _, R2[i] = regressModel(_erp, _surprise)"
   ]
  },
  {
   "cell_type": "code",
   "execution_count": null,
   "metadata": {},
   "outputs": [],
   "source": [
    "np.save('BETAS_FITTED', BETAS)\n",
    "np.save('R2_FITTED', R2)"
   ]
  },
  {
   "cell_type": "markdown",
   "metadata": {},
   "source": [
    "### Regress all K0, K1 and K2."
   ]
  },
  {
   "cell_type": "code",
   "execution_count": null,
   "metadata": {},
   "outputs": [],
   "source": [
    "# Model data\n",
    "SURPRISE = np.load(dname_seq + 'SURPRISE.npy')\n",
    "SURPRISE = np.reshape(SURPRISE, (3, n_sujs, -1))\n",
    "SURPRISE.shape"
   ]
  },
  {
   "cell_type": "code",
   "execution_count": null,
   "metadata": {},
   "outputs": [],
   "source": [
    "BETAS = np.full((3, n_sujs, n_channels, n_times), np.nan)\n",
    "R2 = np.full((3, n_sujs, n_channels, n_times), np.nan)\n",
    "BETAS.shape"
   ]
  },
  {
   "cell_type": "code",
   "execution_count": null,
   "metadata": {},
   "outputs": [],
   "source": [
    "for k in range(3):\n",
    "    for i, suj in enumerate(sujs):\n",
    "\n",
    "        # Load data\n",
    "        _erp = np.reshape(ERP[i], (-1, n_channels, n_times))\n",
    "        _surprise = np.reshape(SURPRISE[k, i], (-1))\n",
    "\n",
    "        # Remove NaNs\n",
    "        idx = np.logical_and(np.logical_not(np.isnan(_surprise)), \n",
    "                             np.logical_not(np.any(np.isnan(_erp), axis=(1, 2))))\n",
    "        _erp = _erp[idx]\n",
    "        _surprise = _surprise[idx]\n",
    "        if _erp.size == 0: print('error ', i)\n",
    "\n",
    "        # Compute LinearRegression\n",
    "        BETAS[k, i], _, R2[k, i] = regressModel(_erp, _surprise)"
   ]
  },
  {
   "cell_type": "code",
   "execution_count": null,
   "metadata": {},
   "outputs": [],
   "source": [
    "np.save('BETAS_SURPRISE', BETAS)\n",
    "np.save('R2_SURPRISE', R2)"
   ]
  },
  {
   "cell_type": "code",
   "execution_count": null,
   "metadata": {},
   "outputs": [],
   "source": []
  },
  {
   "cell_type": "code",
   "execution_count": null,
   "metadata": {},
   "outputs": [],
   "source": []
  },
  {
   "cell_type": "code",
   "execution_count": null,
   "metadata": {},
   "outputs": [],
   "source": []
  }
 ],
 "metadata": {
  "kernelspec": {
   "display_name": "Python 3",
   "language": "python",
   "name": "python3"
  },
  "language_info": {
   "codemirror_mode": {
    "name": "ipython",
    "version": 3
   },
   "file_extension": ".py",
   "mimetype": "text/x-python",
   "name": "python",
   "nbconvert_exporter": "python",
   "pygments_lexer": "ipython3",
   "version": "3.8.5"
  }
 },
 "nbformat": 4,
 "nbformat_minor": 2
}
