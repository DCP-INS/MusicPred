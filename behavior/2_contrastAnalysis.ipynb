{
 "cells": [
  {
   "cell_type": "markdown",
   "metadata": {},
   "source": [
    "# Simple analysis for contrasts musicians/non-musicians."
   ]
  },
  {
   "cell_type": "code",
   "execution_count": null,
   "metadata": {},
   "outputs": [],
   "source": [
    "import os\n",
    "import glob\n",
    "import numpy as np\n",
    "import pandas as pd\n",
    "import matplotlib.pyplot as plt\n",
    "from matplotlib.patches import FancyBboxPatch"
   ]
  },
  {
   "cell_type": "markdown",
   "metadata": {},
   "source": [
    "### Import dataset."
   ]
  },
  {
   "cell_type": "code",
   "execution_count": null,
   "metadata": {},
   "outputs": [],
   "source": [
    "colors = ['#1f77b4', '#ff7f0e']"
   ]
  },
  {
   "cell_type": "code",
   "execution_count": null,
   "metadata": {},
   "outputs": [],
   "source": [
    "dname = '/media/jacques/DATA1/2019_MusicPred/experimentContinuousMatrix/data/behavior/'\n",
    "\n",
    "# Experimental\n",
    "MUSICIANS = np.load(dname + 'MUSICIANS.npy')\n",
    "CHOICES = np.load(dname + 'CHOICES.npy')\n",
    "DEC = np.load(dname + 'DEC.npy')\n",
    "SEQS = np.load(dname + 'SEQS.npy')\n",
    "PERF = np.load(dname + 'PERF.npy')\n",
    "RT = np.load(dname + 'RT.npy')\n",
    "SEQ_ID = np.load(dname + 'SEQ_ID.npy')\n",
    "sujs = np.load(dname + 'sujs.npy', allow_pickle=True)\n",
    "\n",
    "# Training\n",
    "CHOICES_TRAINING = np.load(dname + 'CHOICES_TRAINING.npy')\n",
    "SEQS_TRAINING = np.load(dname + 'SEQS_TRAINING.npy')\n",
    "PERF_TRAINING = np.load(dname + 'PERF_TRAINING.npy')\n",
    "RT_TRAINING = np.load(dname + 'RT_TRAINING.npy')\n",
    "\n",
    "SEQS.shape"
   ]
  },
  {
   "cell_type": "code",
   "execution_count": null,
   "metadata": {},
   "outputs": [],
   "source": [
    "n_sujs, n_seqs, n_tones = SEQS.shape\n",
    "n_dec = RT.shape[-1]\n",
    "N_VOC = np.unique(SEQS[np.logical_not(np.isnan(SEQS))]).size"
   ]
  },
  {
   "cell_type": "markdown",
   "metadata": {},
   "source": [
    "# Performances musicians/non-musicians in the training."
   ]
  },
  {
   "cell_type": "code",
   "execution_count": null,
   "metadata": {},
   "outputs": [],
   "source": [
    "print(np.mean(np.nanmean(PERF_TRAINING, axis=1)))"
   ]
  },
  {
   "cell_type": "code",
   "execution_count": null,
   "metadata": {},
   "outputs": [],
   "source": [
    "print(np.std(np.nanmean(PERF_TRAINING, axis=1))/np.sqrt(n_sujs))"
   ]
  },
  {
   "cell_type": "code",
   "execution_count": null,
   "metadata": {},
   "outputs": [],
   "source": [
    "fig, ax = plt.subplots(1, 1, figsize=(2, 5))\n",
    "\n",
    "# Suj\n",
    "for j, musi in enumerate(np.unique(MUSICIANS)):\n",
    "    M = np.nanmean(PERF_TRAINING[MUSICIANS[:, 0, 0] == musi], 1)\n",
    "    m = np.nanmean(M, 0)\n",
    "    se = np.nanstd(M, 0)/np.sqrt(np.sum(MUSICIANS[:, 0, 0] == musi))\n",
    "    label = 'Musicians' if musi == True else 'Non-musicians'\n",
    "    ax.errorbar(j, m, yerr=se, marker='D', linewidth=2, markersize=7, \n",
    "                label=label, color=colors[j])\n",
    "\n",
    "for s, suj in enumerate(sujs):\n",
    "    ax.plot(np.random.normal(0, 0.01) + MUSICIANS[s, 0, 0], np.nanmean(PERF_TRAINING[s], 0), marker='o', \n",
    "            linewidth=1, color=colors[MUSICIANS[s, 0, 0]], linestyle='--', markersize=4, alpha=0.3)\n",
    "\n",
    "ax.set_xticks(np.arange(2))\n",
    "ax.set_xticklabels(['Non-musicians', 'Musicians'])\n",
    "ax.legend(loc=3)\n",
    "ax.set_ylabel('P(correct)')\n",
    "ax.set_ylim(0, 1)\n",
    "ax.set_xlim(-0.3, 1.3)\n",
    "fig"
   ]
  },
  {
   "cell_type": "code",
   "execution_count": null,
   "metadata": {},
   "outputs": [],
   "source": [
    "fig, ax = plt.subplots(1, 1, figsize=(2, 5))\n",
    "\n",
    "# Suj\n",
    "for j, musi in enumerate(np.unique(MUSICIANS)):\n",
    "    M = np.nanmean(RT_TRAINING[MUSICIANS[:, 0, 0] == musi], 1)\n",
    "    m = np.nanmean(M, 0)\n",
    "    se = np.nanstd(M, 0)/np.sqrt(np.sum(MUSICIANS[:, 0, 0] == musi))\n",
    "    label = 'Musicians' if musi == True else 'Non-musicians'\n",
    "    ax.errorbar(j, m, yerr=se, marker='D', linewidth=2, markersize=7, \n",
    "                label=label, color=colors[j])\n",
    "\n",
    "for s, suj in enumerate(sujs):\n",
    "    ax.plot(np.random.normal(0, 0.01) + MUSICIANS[s, 0, 0], np.nanmean(RT_TRAINING[s], 0), marker='o', \n",
    "            linewidth=1, color=colors[MUSICIANS[s, 0, 0]], linestyle='--', markersize=4, alpha=0.3)\n",
    "\n",
    "ax.set_xticks(np.arange(2))\n",
    "ax.set_xticklabels(['Non-musicians', 'Musicians'])\n",
    "ax.legend(loc=3)\n",
    "ax.set_ylabel('Response time (ms)')\n",
    "ax.set_xlim(-0.3, 1.3)"
   ]
  },
  {
   "cell_type": "markdown",
   "metadata": {},
   "source": [
    "### Statistics."
   ]
  },
  {
   "cell_type": "code",
   "execution_count": null,
   "metadata": {},
   "outputs": [],
   "source": [
    "# Call R\n",
    "from rpy2.robjects.packages import importr\n",
    "from rpy2.robjects import IntVector, FloatVector, FactorVector, globalenv\n",
    "lme4 = importr('lme4')\n",
    "base = importr('base')\n",
    "stats = importr('stats')"
   ]
  },
  {
   "cell_type": "code",
   "execution_count": null,
   "metadata": {},
   "outputs": [],
   "source": [
    "_, n_training = PERF_TRAINING.shape\n",
    "PERF_TRAINING.shape"
   ]
  },
  {
   "cell_type": "code",
   "execution_count": null,
   "metadata": {},
   "outputs": [],
   "source": [
    "X = np.ravel(PERF_TRAINING)\n",
    "X.shape"
   ]
  },
  {
   "cell_type": "code",
   "execution_count": null,
   "metadata": {},
   "outputs": [],
   "source": [
    "Y1 = np.ravel(MUSICIANS[:, 0, :n_training])\n",
    "Y1.shape"
   ]
  },
  {
   "cell_type": "code",
   "execution_count": null,
   "metadata": {},
   "outputs": [],
   "source": [
    "S = np.ravel(np.transpose(np.tile(sujs, (n_training, 1)), (1, 0)))\n",
    "S = np.array(S, dtype=np.float)\n",
    "S.shape"
   ]
  },
  {
   "cell_type": "code",
   "execution_count": null,
   "metadata": {},
   "outputs": [],
   "source": [
    "globalenv[\"music\"] = FactorVector(np.array(Y1, dtype=np.str))\n",
    "globalenv[\"perf\"] = FloatVector(X)\n",
    "globalenv[\"suj\"] = FactorVector(np.array(S, dtype=np.str))"
   ]
  },
  {
   "cell_type": "code",
   "execution_count": null,
   "metadata": {},
   "outputs": [],
   "source": [
    "m = lme4.glmer(\"perf ~ music + (1|suj)\", family='binomial')"
   ]
  },
  {
   "cell_type": "code",
   "execution_count": null,
   "metadata": {
    "scrolled": true
   },
   "outputs": [],
   "source": [
    "print(base.summary(m))"
   ]
  },
  {
   "cell_type": "code",
   "execution_count": null,
   "metadata": {},
   "outputs": [],
   "source": []
  },
  {
   "cell_type": "markdown",
   "metadata": {},
   "source": [
    "# Performances musicians/non-musicians in the task."
   ]
  },
  {
   "cell_type": "code",
   "execution_count": null,
   "metadata": {},
   "outputs": [],
   "source": [
    "DIFF = SEQ_ID % 2 + 1"
   ]
  },
  {
   "cell_type": "markdown",
   "metadata": {},
   "source": [
    "### Plot performances."
   ]
  },
  {
   "cell_type": "code",
   "execution_count": null,
   "metadata": {},
   "outputs": [],
   "source": [
    "PERF_DIFF = np.zeros((n_sujs, 2))\n",
    "RT_DIFF = np.zeros((n_sujs, 2))\n",
    "for s, suj in enumerate(sujs):\n",
    "    for i, diff in enumerate([1, 2]):\n",
    "        PERF_DIFF[s, i] = np.nanmean(PERF[s, DIFF[s] == diff])\n",
    "        RT_DIFF[s, i] = np.nanmean(RT[s, DIFF[s] == diff])"
   ]
  },
  {
   "cell_type": "code",
   "execution_count": null,
   "metadata": {},
   "outputs": [],
   "source": [
    "fig, ax = plt.subplots(1, 1, figsize=(2, 5), facecolor='w')\n",
    "\n",
    "# Suj\n",
    "for j, musi in enumerate(np.unique(MUSICIANS)):\n",
    "    m = np.nanmean(PERF_DIFF[MUSICIANS[:, 0, 0] == musi], 0)\n",
    "    se = np.nanstd(PERF_DIFF[MUSICIANS[:, 0, 0] == musi], 0)/np.sqrt(np.sum(MUSICIANS[:, 0, 0] == musi))\n",
    "    print(m)\n",
    "    print(se)\n",
    "    label = 'Musicians' if musi == True else 'Non-musicians'\n",
    "    ax.errorbar([1, 2], m, yerr=se, marker='D', linewidth=2, markersize=7, \n",
    "                label=label, color=colors[j])\n",
    "\n",
    "for s, suj in enumerate(sujs):\n",
    "    ax.plot([1, 2], PERF_DIFF[s], marker='o', \n",
    "            linewidth=1, color=colors[MUSICIANS[s, 0, 0]], linestyle='--', markersize=4, alpha=0.3)\n",
    "\n",
    "ax.set_xticks(np.arange(2)+1)\n",
    "ax.set_xticklabels(['Easy', 'Hard'])\n",
    "ax.axhline(1./N_VOC, color='k', linestyle='-.', alpha=0.6, linewidth=1.5)#, label='Random')\n",
    "ax.legend(loc=3)\n",
    "ax.set_ylabel('P(correct)')\n",
    "ax.set_ylim(0.3, 0.8)\n",
    "ax.set_xlim(0.7, 2.3)\n",
    "fig"
   ]
  },
  {
   "cell_type": "code",
   "execution_count": null,
   "metadata": {},
   "outputs": [],
   "source": [
    "musi = False\n",
    "print(np.nanmean(PERF_DIFF[MUSICIANS[:, 0, 0] == musi, :]))\n",
    "print(np.nanstd(PERF_DIFF[MUSICIANS[:, 0, 0] == musi, :])/np.sqrt(np.sum(MUSICIANS[:, 0, 0] == musi)))"
   ]
  },
  {
   "cell_type": "code",
   "execution_count": null,
   "metadata": {},
   "outputs": [],
   "source": [
    "print(np.nanmean(PERF_DIFF[:, 1]))\n",
    "print(np.nanstd(PERF_DIFF[:, 1])/np.sqrt(n_sujs))"
   ]
  },
  {
   "cell_type": "markdown",
   "metadata": {},
   "source": [
    "### Statistics."
   ]
  },
  {
   "cell_type": "code",
   "execution_count": null,
   "metadata": {},
   "outputs": [],
   "source": [
    "X = np.ravel(PERF)\n",
    "X.shape"
   ]
  },
  {
   "cell_type": "code",
   "execution_count": null,
   "metadata": {},
   "outputs": [],
   "source": [
    "Y1 = np.ravel(MUSICIANS[:, :, :n_dec])\n",
    "Y2 = np.ravel(np.transpose(np.tile(DIFF, (n_dec, 1, 1)), (1, 2, 0)))\n",
    "Y1.shape"
   ]
  },
  {
   "cell_type": "code",
   "execution_count": null,
   "metadata": {},
   "outputs": [],
   "source": [
    "S = np.ravel(np.transpose(np.tile(sujs, (n_seqs, n_dec, 1)), (2, 0, 1)))\n",
    "S = np.array(S, dtype=np.float)\n",
    "S.shape"
   ]
  },
  {
   "cell_type": "code",
   "execution_count": null,
   "metadata": {},
   "outputs": [],
   "source": [
    "globalenv[\"music\"] = FactorVector(np.array(Y1 - 0.5, dtype=np.str))\n",
    "globalenv[\"perf\"] = FloatVector(X)\n",
    "globalenv[\"suj\"] = FactorVector(np.array(S, dtype=np.str))\n",
    "globalenv[\"diff\"] = FactorVector(np.array(Y2 - 1.5, dtype=np.str))"
   ]
  },
  {
   "cell_type": "code",
   "execution_count": null,
   "metadata": {},
   "outputs": [],
   "source": [
    "m = lme4.glmer(\"perf ~ music * diff + (diff|suj)\", family='binomial')"
   ]
  },
  {
   "cell_type": "code",
   "execution_count": null,
   "metadata": {},
   "outputs": [],
   "source": [
    "print(base.summary(m))"
   ]
  },
  {
   "cell_type": "markdown",
   "metadata": {},
   "source": [
    "### Reaction times."
   ]
  },
  {
   "cell_type": "code",
   "execution_count": null,
   "metadata": {},
   "outputs": [],
   "source": [
    "fig, ax = plt.subplots(1, 1, figsize=(2, 5))\n",
    "\n",
    "# Suj\n",
    "for j, musi in enumerate(np.unique(MUSICIANS)):\n",
    "    m = np.nanmean(RT_DIFF[MUSICIANS[:, 0, 0] == musi], 0)\n",
    "    se = np.nanstd(RT_DIFF[MUSICIANS[:, 0, 0] == musi], 0)/np.sqrt(np.sum(MUSICIANS[:, 0, 0] == musi))\n",
    "    label = 'Musicians' if musi == True else 'Non-musicians'\n",
    "    ax.errorbar([1, 2], m, yerr=se, marker='D', linewidth=2, markersize=7, \n",
    "                label=label, color=colors[j])\n",
    "\n",
    "for s, suj in enumerate(sujs):\n",
    "    ax.plot([1, 2], RT_DIFF[s], marker='o', \n",
    "            linewidth=1, color=colors[MUSICIANS[s, 0, 0]], linestyle='--', markersize=4, alpha=0.3)\n",
    "\n",
    "ax.set_xticks(np.arange(2)+1)\n",
    "ax.set_xticklabels(['Easy', 'Hard'])\n",
    "ax.legend()\n",
    "ax.set_ylabel('RT (ms)')\n",
    "ax.set_ylim(1000, 2500)\n",
    "ax.set_xlim(0.7, 2.3)\n",
    "fig"
   ]
  },
  {
   "cell_type": "markdown",
   "metadata": {},
   "source": [
    "# Figure 1"
   ]
  },
  {
   "cell_type": "code",
   "execution_count": null,
   "metadata": {},
   "outputs": [],
   "source": [
    "bad_sujs = np.array([5])"
   ]
  },
  {
   "cell_type": "code",
   "execution_count": null,
   "metadata": {},
   "outputs": [],
   "source": [
    "W, H = np.array([10, 5])\n",
    "fig = plt.figure(facecolor='w', figsize=(W, H), dpi=300)\n",
    "n_col, n_row = (4, 5)\n",
    "colors = ['#1f77b4', '#ff7f0e']\n",
    "tmax = 60\n",
    "letter_size = 15\n",
    "\n",
    "#########################################################\n",
    "###################### PARADIGM #########################\n",
    "#########################################################\n",
    "\n",
    "for i, (seq, dec, title, i_row) in enumerate(zip(\n",
    "        [SEQS[0, 0], SEQS[0, 3], SEQS[0, 1], SEQS[0, 5]],\n",
    "        [DEC[0, 0], DEC[0, 3], DEC[0, 1], DEC[0, 5]],\n",
    "        ['Low-order statistics P(  |  )', '', 'High-order statistics P(  |     )', ''],\n",
    "        [0, 1, 3, 4])):\n",
    "    \n",
    "    # Declare axis\n",
    "    ax = plt.subplot2grid((n_row, n_col), (i_row, 0), colspan=n_col-1)\n",
    "    \n",
    "    # Plot\n",
    "    ax.scatter(range(n_tones), seq, c=seq, s=40, cmap='Greys', vmin=0, vmax=2, linewidths=1, edgecolors='k')\n",
    "    \n",
    "    # Esthetics\n",
    "    ax.set_xlim(-0.5, tmax - 0.5)\n",
    "    ax.set_ylim(-1, 3)\n",
    "    ax.set_title(title, fontweight='bold')\n",
    "    ax.spines['right'].set_visible(False)\n",
    "    ax.spines['top'].set_visible(False)\n",
    "    ax.spines['left'].set_visible(False)\n",
    "    ax.set_yticks([])\n",
    "    ax.set_xticks(np.arange(0, tmax, 5))\n",
    "    if i == 0:\n",
    "        ax.spines['left'].set_visible(True)\n",
    "        ax.set_yticks(range(3))\n",
    "        ax.set_yticklabels(['metal', 'wood', 'glass'], fontsize=8, rotation=20)\n",
    "    if i in (1, 3):\n",
    "        ax.set_xticklabels(np.arange(0, tmax, 5))\n",
    "        ax.set_xlabel('Tone #')\n",
    "    else:\n",
    "        ax.set_xticklabels([''])\n",
    "        \n",
    "    # Decision \"?\"\n",
    "    for _idx in np.where(dec)[0]:\n",
    "        if _idx > tmax: continue\n",
    "        idx = float(_idx) - 0.5#/n_tones\n",
    "        p_fancy = FancyBboxPatch((idx-.9, -0.6),\n",
    "                                 1.8, 3, fc=(1, 1, 1), ec='w', lw=0,\n",
    "                                 boxstyle=\"round,pad=0.1\", transform=ax.transData)\n",
    "        ax.add_patch(p_fancy)\n",
    "        p_fancy = FancyBboxPatch((idx-.55, 1.1),\n",
    "                                 1., .2, fc='k', ec='w', lw=1,\n",
    "                                 boxstyle=\"circle\", transform=ax.transData)\n",
    "        ax.add_patch(p_fancy)\n",
    "        ax.text(idx-0.4, 0.8, '?', size=10, color='w', fontweight='bold', transform=ax.transData)\n",
    "\n",
    "    if i == 0: ax.text(-0.05, 1.2, 'A', transform=ax.transAxes, fontsize=letter_size, fontweight='bold')\n",
    "\n",
    "#########################################################\n",
    "####################### RESULTS #########################\n",
    "#########################################################\n",
    "\n",
    "# Sujs\n",
    "ax = plt.subplot2grid((n_row, n_col), (0, n_col-1), colspan=1, rowspan=n_row)\n",
    "for j, musi in enumerate([True, False]):\n",
    "    m = np.nanmean(PERF_DIFF[MUSICIANS[:, 0, 0] == musi], 0)\n",
    "    se = np.nanstd(PERF_DIFF[MUSICIANS[:, 0, 0] == musi], 0)/np.sqrt(np.sum(MUSICIANS[:, 0, 0] == musi))\n",
    "    label = 'Musicians' if musi == True else 'Non-musicians'\n",
    "    ax.errorbar([1, 2], m, yerr=se, marker='D', linewidth=2, markersize=7, \n",
    "                label=label, color=colors[musi])\n",
    "\n",
    "for s, suj in enumerate(sujs):\n",
    "    if suj in bad_sujs: continue\n",
    "    ax.plot([1, 2], PERF_DIFF[s], marker='o', \n",
    "            linewidth=1, color=colors[MUSICIANS[s, 0, 0]], linestyle='--', markersize=2, alpha=0.1)\n",
    "\n",
    "ax.set_xticks(np.arange(2)+1)\n",
    "ax.set_xticklabels(['Low-order\\nstatistics', 'High-order\\nstatistics'])\n",
    "ax.axhline(1./N_VOC, color='k', linestyle='-.', alpha=0.6, linewidth=1.5)\n",
    "ax.axhline(0.8, color='k', linestyle='-.', alpha=0.6, linewidth=1.5)\n",
    "ax.legend(loc=3)\n",
    "ax.set_ylabel('P(correct)')\n",
    "ax.set_ylim(0.23, 0.85)\n",
    "ax.set_xlim(0.7, 2.3)\n",
    "ax.set_title('Performances', fontweight='bold')\n",
    "ax.text(0.8, 0.81, 'optimal', fontweight='bold')\n",
    "ax.text(0.8, 0.342, 'chance level', fontweight='bold')\n",
    "ax.text(-0.2, 1.05, 'B', transform=ax.transAxes, fontsize=letter_size, fontweight='bold')\n",
    "\n",
    "plt.tight_layout(h_pad=0, w_pad=3)"
   ]
  },
  {
   "cell_type": "code",
   "execution_count": null,
   "metadata": {},
   "outputs": [],
   "source": [
    "fname = '/media/jacques/DATA1/2019_MusicPred/experimentContinuousMatrix/analysis/Figures/Figure_1.png'\n",
    "fig.savefig(fname, bbox_inches='tight')"
   ]
  },
  {
   "cell_type": "code",
   "execution_count": null,
   "metadata": {},
   "outputs": [],
   "source": []
  },
  {
   "cell_type": "code",
   "execution_count": null,
   "metadata": {},
   "outputs": [],
   "source": []
  }
 ],
 "metadata": {
  "kernelspec": {
   "display_name": "Python 3",
   "language": "python",
   "name": "python3"
  },
  "language_info": {
   "codemirror_mode": {
    "name": "ipython",
    "version": 3
   },
   "file_extension": ".py",
   "mimetype": "text/x-python",
   "name": "python",
   "nbconvert_exporter": "python",
   "pygments_lexer": "ipython3",
   "version": "3.8.5"
  }
 },
 "nbformat": 4,
 "nbformat_minor": 2
}
