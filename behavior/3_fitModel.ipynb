{
 "cells": [
  {
   "cell_type": "markdown",
   "metadata": {},
   "source": [
    "# Import data."
   ]
  },
  {
   "cell_type": "code",
   "execution_count": 1,
   "metadata": {},
   "outputs": [],
   "source": [
    "import os\n",
    "import glob\n",
    "import numpy as np\n",
    "import pandas as pd\n",
    "import matplotlib.pyplot as plt\n",
    "from matplotlib import ticker\n",
    "from bayesianLearner import *\n",
    "from matplotlib.patches import FancyBboxPatch"
   ]
  },
  {
   "cell_type": "markdown",
   "metadata": {},
   "source": [
    "### Import dataset."
   ]
  },
  {
   "cell_type": "code",
   "execution_count": 2,
   "metadata": {},
   "outputs": [],
   "source": [
    "colors = ['#1f77b4', '#ff7f0e']"
   ]
  },
  {
   "cell_type": "code",
   "execution_count": 4,
   "metadata": {},
   "outputs": [
    {
     "data": {
      "text/plain": [
       "(53, 10, 300)"
      ]
     },
     "execution_count": 4,
     "metadata": {},
     "output_type": "execute_result"
    }
   ],
   "source": [
    "dname = '/media/jacques/DATA1/2019_MusicPred/experimentContinuousMatrix/data/behavior/'\n",
    "dname = '/home/jacques/Documents/2019_MusicPred/experimentContinuousMatrix/data/behavior/'\n",
    "# Experimental\n",
    "MUSICIANS = np.load(dname + 'MUSICIANS.npy')\n",
    "CHOICES = np.load(dname + 'CHOICES.npy')\n",
    "DEC = np.load(dname + 'DEC.npy')\n",
    "SEQS = np.load(dname + 'SEQS.npy')\n",
    "PERF = np.load(dname + 'PERF.npy')\n",
    "RT = np.load(dname + 'RT.npy')\n",
    "SEQ_ID = np.load(dname + 'SEQ_ID.npy')\n",
    "sujs = np.load(dname + 'sujs.npy', allow_pickle=True)\n",
    "\n",
    "# Training\n",
    "CHOICES_TRAINING = np.load(dname + 'CHOICES_TRAINING.npy')\n",
    "SEQS_TRAINING = np.load(dname + 'SEQS_TRAINING.npy')\n",
    "PERF_TRAINING = np.load(dname + 'PERF_TRAINING.npy')\n",
    "RT_TRAINING = np.load(dname + 'RT_TRAINING.npy')\n",
    "\n",
    "SEQS.shape"
   ]
  },
  {
   "cell_type": "code",
   "execution_count": 5,
   "metadata": {},
   "outputs": [],
   "source": [
    "n_sujs, n_seqs, n_tones = SEQS.shape\n",
    "n_dec = RT.shape[-1]\n",
    "N_VOC = np.unique(SEQS[np.logical_not(np.isnan(SEQS))]).size"
   ]
  },
  {
   "cell_type": "markdown",
   "metadata": {},
   "source": [
    "### Make model predictions."
   ]
  },
  {
   "cell_type": "code",
   "execution_count": 6,
   "metadata": {},
   "outputs": [],
   "source": [
    "n_hierarchy = 3\n",
    "hierachies = np.arange(n_hierarchy)"
   ]
  },
  {
   "cell_type": "code",
   "execution_count": null,
   "metadata": {},
   "outputs": [],
   "source": [
    "PERF_MODEL = np.full((n_hierarchy, n_seqs, n_dec), np.nan)\n",
    "CHOICES_MODEL = np.full((n_hierarchy, n_seqs, n_tones), np.nan)"
   ]
  },
  {
   "cell_type": "code",
   "execution_count": null,
   "metadata": {},
   "outputs": [],
   "source": [
    "suj = -1 # all sujs have the same sequence\n",
    "for i, i_seq in enumerate(range(n_seqs)):\n",
    "\n",
    "    # Retrieve sequence\n",
    "    seq = np.array(SEQS[suj, SEQ_ID[suj] == i_seq], dtype=np.int)[0]\n",
    "    _seq = np.zeros((n_tones, N_VOC))\n",
    "    _seq[np.arange(n_tones), seq] = 1\n",
    "    \n",
    "    for k, K in enumerate(hierachies):\n",
    "        _, _, CHOICES_MODEL[k, i], _, _ = bayesianHierarchicalInverter(_seq.copy(),\n",
    "              K=K, noise_sensory=None, noise_inference=None, noise_decision=None)\n",
    "        idx_pred = np.array(DEC[suj, SEQ_ID[suj] == i_seq], dtype=np.bool)[0]\n",
    "        PERF_MODEL[k, i] = seq[idx_pred] == CHOICES_MODEL[k, i, idx_pred]"
   ]
  },
  {
   "cell_type": "markdown",
   "metadata": {},
   "source": [
    "### Model fitting."
   ]
  },
  {
   "cell_type": "code",
   "execution_count": 13,
   "metadata": {},
   "outputs": [],
   "source": [
    "hierachies = np.arange(n_hierarchy)\n",
    "inference_noises = np.logspace(*np.log10([2, 100]), num=200, base=10)\n",
    "decision_noises = np.logspace(*np.log10([1e-1, 2]), num=200, base=10)"
   ]
  },
  {
   "cell_type": "code",
   "execution_count": null,
   "metadata": {},
   "outputs": [],
   "source": [
    "# Compute posterior predictive for all models\n",
    "POSTERIOR = np.zeros((hierachies.size, inference_noises.size, decision_noises.size, n_seqs, n_tones, N_VOC))\n",
    "suj = -1 # all sujs have the same sequence\n",
    "\n",
    "for i, i_seq in enumerate(range(n_seqs)):\n",
    "        \n",
    "    # Retrieve sequence\n",
    "    seq = np.array(SEQS[suj, SEQ_ID[suj] == i_seq], dtype=np.int)[0]\n",
    "    _seq = np.zeros((n_tones, N_VOC))\n",
    "    _seq[np.arange(n_tones), seq] = 1\n",
    "    \n",
    "    # Compute posterior for all models\n",
    "    for j, K in enumerate(hierachies):\n",
    "        for k, tau in enumerate(inference_noises): \n",
    "            for l, beta in enumerate(decision_noises):\n",
    "                POSTERIOR[j, k, l, i], _, _, _, _ = bayesianHierarchicalInverter(_seq.copy(),\n",
    "                         K=K, noise_sensory=noise_sensory, noise_inference=tau, noise_decision=beta)"
   ]
  },
  {
   "cell_type": "code",
   "execution_count": null,
   "metadata": {},
   "outputs": [],
   "source": [
    "# Compute likelihood of participants responses for all models\n",
    "LIKELIHOOD = np.zeros((n_sujs, hierachies.size, inference_noises.size, decision_noises.size))\n",
    "P = np.zeros((n_sujs, n_seqs, hierachies.size, inference_noises.size, decision_noises.size)) # Not very usefull\n",
    "\n",
    "for j, K in enumerate(hierachies):\n",
    "    for k, tau in enumerate(inference_noises): \n",
    "        for l, beta in enumerate(decision_noises):\n",
    "            for m, i_seq in enumerate(range(n_seqs)):\n",
    "                for s, suj in enumerate(sujs):\n",
    "                \n",
    "                    # Subject choices\n",
    "                    _choices = CHOICES[s, SEQ_ID[s] == i_seq]\n",
    "                    _choices[np.isnan(_choices)] = 0\n",
    "                    choices = np.array(_choices, dtype=np.int)\n",
    "                    if choices.size == 0: continue\n",
    "\n",
    "                    # Decision loci\n",
    "                    idx = DEC[s, SEQ_ID[s] == i_seq][0]\n",
    "                    idx = np.array(idx, dtype=np.bool)\n",
    "\n",
    "                    # Carefull : we only sample a few choices, not all !\n",
    "                    p = POSTERIOR[j, k, l, m][idx, choices]\n",
    "                    p[np.isnan(_choices)] = np.nan\n",
    "                    P[s, m, j, k, l] = np.nanmean(p)\n",
    "                    ll = np.log(p)\n",
    "                    LIKELIHOOD[s, j, k, l] += np.nansum(ll)"
   ]
  },
  {
   "cell_type": "code",
   "execution_count": null,
   "metadata": {},
   "outputs": [],
   "source": [
    "np.save(dname + 'LIKELIHOOD', LIKELIHOOD)\n",
    "np.save(dname + 'P', P)"
   ]
  },
  {
   "cell_type": "markdown",
   "metadata": {},
   "source": [
    "### Fig. Supp. 1"
   ]
  },
  {
   "cell_type": "code",
   "execution_count": 8,
   "metadata": {},
   "outputs": [],
   "source": [
    "LIKELIHOOD = np.load(dname + 'LIKELIHOOD.npy')\n",
    "P = np.load(dname + 'P.npy')"
   ]
  },
  {
   "cell_type": "code",
   "execution_count": 9,
   "metadata": {},
   "outputs": [],
   "source": [
    "def jitter(x):\n",
    "    return np.random.normal(0, x)"
   ]
  },
  {
   "cell_type": "code",
   "execution_count": 15,
   "metadata": {},
   "outputs": [],
   "source": [
    "# Filter bad sujs\n",
    "idx = sujs != 5"
   ]
  },
  {
   "cell_type": "code",
   "execution_count": 41,
   "metadata": {},
   "outputs": [],
   "source": [
    "PERF_MEAN = np.nanmean(PERF, axis=(1, 2))\n",
    "PERF_MEAN[np.logical_not(idx)] = np.nan"
   ]
  },
  {
   "cell_type": "code",
   "execution_count": 47,
   "metadata": {},
   "outputs": [
    {
     "name": "stderr",
     "output_type": "stream",
     "text": [
      "<ipython-input-47-7602c938f221>:8: MatplotlibDeprecationWarning: shading='flat' when X and Y have the same dimensions as C is deprecated since 3.3.  Either specify the corners of the quadrilaterals with X and Y, or pass shading='auto', 'nearest' or 'gouraud', or set rcParams['pcolor.shading'].  This will become an error two minor releases later.\n",
      "  ax.pcolor(decision_noises, inference_noises, L[i], alpha=1, vmin=vmin, vmax=vmax)\n",
      "<ipython-input-47-7602c938f221>:38: DeprecationWarning: In future, it will be an error for 'np.bool_' scalars to be interpreted as an index\n",
      "  color=colors[MUSICIANS[s, 0, 0]], label='MLE suj_' + str(suj), s=size,\n"
     ]
    },
    {
     "name": "stdout",
     "output_type": "stream",
     "text": [
      "10\n",
      "True\n",
      "39\n",
      "False\n"
     ]
    },
    {
     "data": {
      "image/png": "[encoded data removed]",
      "text/plain": [
       "<Figure size 720x252 with 3 Axes>"
      ]
     },
     "execution_count": 47,
     "metadata": {},
     "output_type": "execute_result"
    },
    {
     "data": {
      "image/png": "[encoded data removed]",
      "text/plain": [
       "<Figure size 720x252 with 3 Axes>"
      ]
     },
     "metadata": {},
     "output_type": "display_data"
    }
   ],
   "source": [
    "fig, axs = plt.subplots(1, hierachies.size, figsize=(10, 3.5), facecolor='w')\n",
    "\n",
    "L = np.nansum(LIKELIHOOD, axis=0) # Summed likelihood\n",
    "vmin = L.min()/2.\n",
    "vmax = L.max()\n",
    "\n",
    "for i, (ax, hierarchy) in enumerate(zip(axs, hierachies)):\n",
    "    ax.pcolor(decision_noises, inference_noises, L[i], alpha=1, vmin=vmin, vmax=vmax)\n",
    "    ax.set_xscale('log')\n",
    "    ax.set_yscale('log')\n",
    "    ax.set_xlabel(r'Selection noise ($\\hat{\\beta}$)')\n",
    "    ax.set_ylabel(r'Memory decay ($\\hat{\\lambda}$)')\n",
    "    ax.set_xticks(np.logspace(*np.log10([1e-1, 2]), num=5, base=10))\n",
    "    ax.set_yticks(np.logspace(*np.log10([2, 1000]), num=5, base=10))\n",
    "    ax.set_xticklabels(np.around(np.logspace(*np.log10([1e-1, 2]), num=5, base=10), 2))\n",
    "    ax.set_yticklabels(np.array(np.logspace(*np.log10([2, 1000]), num=5, base=10), np.int))\n",
    "    ax.set_xlim(decision_noises.min(), decision_noises.max())\n",
    "    ax.set_ylim(inference_noises.min(), inference_noises.max())\n",
    "    ax.set_title('Model order $\\hat{K}$ = ' + str(hierarchy))\n",
    "\n",
    "# Maximum estimates\n",
    "for s, suj in enumerate(sujs):\n",
    "    if suj == 5: continue\n",
    "    a, b, c = np.unravel_index(np.argmax(LIKELIHOOD[s], axis=None), LIKELIHOOD[s].shape)\n",
    "    if PERF_MEAN[s] == np.nanmin(PERF_MEAN[MUSICIANS[:, 0, 0] == MUSICIANS[s, 0, 0]]) and s != 49:\n",
    "        marker = 'D'; size = 100; edgecolors = 'k'; zorder=100\n",
    "    elif PERF_MEAN[s] == np.nanmax(PERF_MEAN[MUSICIANS[:, 0, 0] == MUSICIANS[s, 0, 0]]):\n",
    "        marker = '*'; size = 300; edgecolors = 'k'; zorder=100\n",
    "    else:\n",
    "        marker = 'o'; size = 30; edgecolors = None; zorder=20\n",
    "    if inference_noises[b] == np.max(inference_noises): \n",
    "        y = inference_noises[b] * 0.95 # Adjust to plot extreme values\n",
    "    else:\n",
    "        y = inference_noises[b]\n",
    "    axs[a].scatter(decision_noises[c], inference_noises[b], marker=marker, \n",
    "                   color=colors[MUSICIANS[s, 0, 0]], label='MLE suj_' + str(suj), s=size,\n",
    "                   edgecolors=edgecolors, zorder=zorder)\n",
    "\n",
    "# Add legend\n",
    "for musi in ([True, False]):\n",
    "    label = 'Musicians' if musi == True else 'Non-musicians'\n",
    "    axs[0].scatter(-10, -10, color=colors[musi], label=label, s=50)\n",
    "axs[0].legend(loc=1)\n",
    "\n",
    "plt.tight_layout()\n",
    "fig"
   ]
  },
  {
   "cell_type": "code",
   "execution_count": null,
   "metadata": {},
   "outputs": [],
   "source": [
    "fname = '/media/jacques/DATA1/2019_MusicPred/experimentContinuousMatrix/analysis/Figures/Figure_Supp_1.png'\n",
    "fig.savefig(fname, bbox_inches='tight')"
   ]
  },
  {
   "cell_type": "markdown",
   "metadata": {},
   "source": [
    "### Save model surprise for EEG analysis."
   ]
  },
  {
   "cell_type": "code",
   "execution_count": null,
   "metadata": {},
   "outputs": [],
   "source": [
    "SURPRISE_FITTED = np.full(SEQS.shape, np.nan)\n",
    "PREDICTED_SOUND_FITTED = np.full(SEQS.shape, np.nan)"
   ]
  },
  {
   "cell_type": "code",
   "execution_count": null,
   "metadata": {},
   "outputs": [],
   "source": [
    "for i, suj in enumerate(sujs):\n",
    "    \n",
    "    # Retrieve parameters for this subject\n",
    "    a, b, c = np.unravel_index(np.argmax(LIKELIHOOD[s], axis=None), LIKELIHOOD[s].shape)\n",
    "    k = hierachies[a]\n",
    "    inference_noise = inference_noises[b]\n",
    "    decision_noise = decision_noises[c]\n",
    "    \n",
    "    for j, j_seq in enumerate(range(n_seqs)):\n",
    "\n",
    "        # Don't do it if _seq contains nans\n",
    "        if np.any(np.isnan(SEQS[i, j])):\n",
    "            continue\n",
    "\n",
    "        # Retrieve sequence\n",
    "        seq = np.array(SEQS[i, j], dtype=np.int)\n",
    "        _seq = np.zeros((n_tones, N_VOC))\n",
    "        _seq[np.arange(n_tones), seq] = 1        \n",
    "\n",
    "        # Compute model posterior\n",
    "        _P, _, _, _, _ = bayesianHierarchicalInverter(_seq.copy(),\n",
    "                 K=k, noise_sensory=noise_sensory, noise_inference=inference_noise, noise_decision=decision_noise)\n",
    "        \n",
    "        # Save model surprise\n",
    "        SURPRISE_FITTED[i, j] = - np.log(_P[np.arange(n_tones), seq])\n",
    "        PREDICTED_SOUND_FITTED[i, j] = np.argmax(_P, axis=-1)\n",
    "\n",
    "np.save(dname + 'SURPRISE_FITTED', SURPRISE_FITTED)\n",
    "np.save(dname + 'PREDICTED_SOUND_FITTED', PREDICTED_SOUND_FITTED)"
   ]
  },
  {
   "cell_type": "code",
   "execution_count": null,
   "metadata": {},
   "outputs": [],
   "source": [
    "SURPRISE_FITTED = np.load(dname + 'SURPRISE_FITTED.npy')\n",
    "PREDICTED_SOUND_FITTED = np.load(dname + 'PREDICTED_SOUND_FITTED.npy')"
   ]
  },
  {
   "cell_type": "code",
   "execution_count": null,
   "metadata": {},
   "outputs": [],
   "source": [
    "SURPRISE = np.full((3, n_sujs, n_seqs, n_tones), np.nan)"
   ]
  },
  {
   "cell_type": "code",
   "execution_count": null,
   "metadata": {},
   "outputs": [],
   "source": [
    "for i, suj in enumerate(sujs):\n",
    "    \n",
    "    for j, j_seq in enumerate(range(n_seqs)):\n",
    "\n",
    "        # Don't do it if _seq contains nans\n",
    "        if np.any(np.isnan(SEQS[i, j])):\n",
    "            continue\n",
    "\n",
    "        # Retrieve sequence\n",
    "        seq = np.array(SEQS[i, j], dtype=np.int)\n",
    "        _seq = np.zeros((n_tones, N_VOC))\n",
    "        _seq[np.arange(n_tones), seq] = 1        \n",
    "        \n",
    "        # For each level of hierarchy K\n",
    "        for k in range(3):\n",
    "\n",
    "            # Retrieve parameters for this subject and this K\n",
    "            b, c = np.unravel_index(np.argmax(LIKELIHOOD[i, k], axis=None), LIKELIHOOD[i, k].shape)\n",
    "            inference_noise = inference_noises[b]\n",
    "            decision_noise = decision_noises[c]\n",
    "\n",
    "            # Compute model posterior\n",
    "            P, _, _, _, _ = bayesianHierarchicalInverter(_seq.copy(),\n",
    "                     K=k, noise_sensory=noise_sensory, noise_inference=inference_noise, \n",
    "                                                         noise_decision=decision_noise)\n",
    "\n",
    "            # Save model surprise\n",
    "            SURPRISE[k, i, j] = - np.log(P[np.arange(n_tones), seq])\n",
    "\n",
    "np.save(dname + 'SURPRISE', SURPRISE)"
   ]
  },
  {
   "cell_type": "markdown",
   "metadata": {},
   "source": [
    "### Study model parameters."
   ]
  },
  {
   "cell_type": "code",
   "execution_count": null,
   "metadata": {},
   "outputs": [],
   "source": [
    "ESTIMATES = np.zeros((n_sujs, 3)) # K, inference, decision"
   ]
  },
  {
   "cell_type": "code",
   "execution_count": null,
   "metadata": {},
   "outputs": [],
   "source": [
    "# Maximum estimates\n",
    "for s, suj in enumerate(sujs):\n",
    "    a, b, c = np.unravel_index(np.argmax(LIKELIHOOD[s], axis=None), LIKELIHOOD[s].shape)\n",
    "    ESTIMATES[s, 0] = hierachies[a]\n",
    "    ESTIMATES[s, 1] = inference_noises[b]\n",
    "    ESTIMATES[s, 2] = decision_noises[c]"
   ]
  },
  {
   "cell_type": "code",
   "execution_count": null,
   "metadata": {},
   "outputs": [],
   "source": [
    "np.save(dname + 'ESTIMATES', ESTIMATES)"
   ]
  },
  {
   "cell_type": "code",
   "execution_count": null,
   "metadata": {},
   "outputs": [],
   "source": [
    "ESTIMATES = np.load(dname + 'ESTIMATES.npy')"
   ]
  },
  {
   "cell_type": "markdown",
   "metadata": {},
   "source": [
    "### Statistics"
   ]
  },
  {
   "cell_type": "code",
   "execution_count": null,
   "metadata": {},
   "outputs": [],
   "source": [
    "# Call R\n",
    "from rpy2.robjects.packages import importr\n",
    "from rpy2.robjects import IntVector, FloatVector, FactorVector, globalenv\n",
    "lme4 = importr('lme4')\n",
    "base = importr('base')\n",
    "stats = importr('stats')"
   ]
  },
  {
   "cell_type": "code",
   "execution_count": null,
   "metadata": {},
   "outputs": [],
   "source": [
    "idx = sujs != 5 # Remove suj 5 !\n",
    "idx"
   ]
  },
  {
   "cell_type": "code",
   "execution_count": null,
   "metadata": {},
   "outputs": [],
   "source": [
    "globalenv[\"music\"] = FactorVector(np.array(MUSICIANS[:, 0, 0][idx], dtype=np.str))\n",
    "globalenv[\"K\"] = FloatVector(ESTIMATES[:, 0][idx] - 1)\n",
    "globalenv[\"lambda\"] = FloatVector(ESTIMATES[:, 1][idx])\n",
    "globalenv[\"sig\"] = FloatVector(ESTIMATES[:, 2][idx])\n",
    "globalenv[\"rt_train\"] = FloatVector(np.nanmean(RT_TRAINING, axis=1)[idx])\n",
    "globalenv[\"perf_train\"] = FloatVector(np.nanmean(PERF_TRAINING, axis=1)[idx])"
   ]
  },
  {
   "cell_type": "code",
   "execution_count": null,
   "metadata": {},
   "outputs": [],
   "source": [
    "m = stats.glm(\"K ~ music\", family='binomial')\n",
    "m0 = stats.glm(\"K ~ 1\", family='binomial')\n",
    "print(base.summary(m))"
   ]
  },
  {
   "cell_type": "code",
   "execution_count": null,
   "metadata": {},
   "outputs": [],
   "source": [
    "m = stats.lm(\"log(sig) ~ music\")\n",
    "m0 = stats.lm(\"log(sig) ~ 1\")\n",
    "print(base.summary(m))"
   ]
  },
  {
   "cell_type": "code",
   "execution_count": null,
   "metadata": {},
   "outputs": [],
   "source": [
    "m = stats.lm(\"log(lambda) ~ music\")\n",
    "m0 = stats.lm(\"log(lambda) ~ 1\")\n",
    "print(base.summary(m))"
   ]
  },
  {
   "cell_type": "markdown",
   "metadata": {},
   "source": [
    "### Figure 2."
   ]
  },
  {
   "cell_type": "code",
   "execution_count": null,
   "metadata": {},
   "outputs": [],
   "source": [
    "idx = sujs == 5\n",
    "ESTIMATES[idx] = np.nan"
   ]
  },
  {
   "cell_type": "code",
   "execution_count": null,
   "metadata": {},
   "outputs": [],
   "source": [
    "W, H = np.array([10, 5])\n",
    "fig = plt.figure(facecolor='w', figsize=(W, H), dpi=300)\n",
    "n_col, n_row = (9, 10)\n",
    "colors = ['#1f77b4', '#ff7f0e']\n",
    "yticks = [np.array(np.logspace(*np.log10([2, 1000]), num=3, base=10), np.int), \n",
    "          (0, 1, 2), \n",
    "          np.around(np.logspace(*np.log10([2, 0.2]), num=3, base=10), 2)]\n",
    "letter_size = 15\n",
    "pad = 20\n",
    "\n",
    "#########################################################\n",
    "#################### Memory decay #######################\n",
    "#########################################################\n",
    "\n",
    "\n",
    "for i, lamb in enumerate([1000, 15, 5]):\n",
    "\n",
    "    # Memory delay\n",
    "    ax = plt.subplot2grid((n_row, n_col), (i*2, 0), rowspan=2, colspan=3)\n",
    "    tmax = 20\n",
    "\n",
    "    # Plot\n",
    "    seq = SEQS[0, 0]\n",
    "    for j in np.arange(n_tones-10):\n",
    "        alpha = min(1, 1./np.exp(float(tmax - j) / lamb))\n",
    "        ax.scatter(j, seq[j+10], s=40, c=seq[j+10], # \"c=\" is not working properly in Python 3.7 ... ??\n",
    "                   cmap='Greys', vmin=0, vmax=2, linewidths=1, \n",
    "                   edgecolors='k', alpha=alpha)\n",
    "\n",
    "    # Esthetics\n",
    "    ax.set_xlim(5.5, tmax - 0.5)\n",
    "    ax.set_ylim(-1, 3)\n",
    "    ax.spines['right'].set_visible(False)\n",
    "    ax.spines['top'].set_visible(False)\n",
    "    ax.spines['left'].set_visible(False)\n",
    "    ax.spines['bottom'].set_visible(False)\n",
    "    ax.set_yticks([])\n",
    "    ax.set_xticks([])\n",
    "    ax.set_xlabel('$\\lambda$ = ' + str(lamb))\n",
    "    ax.xaxis.set_label_position(position='top')\n",
    "\n",
    "    # If first plot, put title\n",
    "    if i == 0:\n",
    "        ax.set_title('Memory decay $\\lambda$', pad=pad)\n",
    "        ax.text(-0.4, 1.5, 'A', transform=ax.transAxes, fontsize=letter_size, fontweight='bold')\n",
    "\n",
    "\n",
    "#########################################################\n",
    "####################### Matrix ##########################\n",
    "#########################################################\n",
    "\n",
    "\n",
    "for i, K in enumerate([2, 1, 0]): \n",
    "    ax = plt.subplot2grid((n_row, n_col), (i*2, 3), rowspan=2, colspan=3)\n",
    "    \n",
    "    # Compute model posterior\n",
    "    _seq = np.zeros((n_tones, N_VOC))\n",
    "    _seq[np.arange(n_tones), np.array(seq, dtype=np.int)] = 1\n",
    "    _, _P, _, _, _ = bayesianHierarchicalInverter(_seq[10:tmax+10].copy(), K=K)\n",
    "\n",
    "    # Plot matrix\n",
    "    ax.imshow(_P[-1].T + np.random.normal(0, 0.05, size=_P[-1].T.shape), \n",
    "              vmin=0, vmax=1, cmap='Greys', aspect='equal')\n",
    "    \n",
    "    # Esthetics\n",
    "    ax.set_yticks([])\n",
    "    ax.set_xticks([])\n",
    "    ax.set_xlabel('K = ' + str(K))\n",
    "    ax.xaxis.set_label_position(position='top')\n",
    "    \n",
    "    # If first plot, put title\n",
    "    if i == 0:\n",
    "        ax.set_title('Matrix of order K', pad=pad)\n",
    "\n",
    "\n",
    "#########################################################\n",
    "###################### Softmax ##########################\n",
    "#########################################################\n",
    "\n",
    "for i, sig in enumerate([0.1, 0.5, 1]): \n",
    "    ax = plt.subplot2grid((n_row, n_col), (i*2, 6), rowspan=2, colspan=3)\n",
    "\n",
    "    # Compute model posterior\n",
    "    _seq = np.zeros((n_tones, N_VOC))\n",
    "    _seq[np.arange(n_tones), np.array(seq, dtype=np.int)] = 1\n",
    "    _P, _, _, _, _ = bayesianHierarchicalInverter(_seq[10:tmax+10].copy(), K=1)\n",
    "\n",
    "    # Plot matrix\n",
    "    ax.imshow(np.exp(np.atleast_2d(_P[-1]).T / sig)/np.sum(np.exp(np.atleast_2d(_P[-1]).T / sig)), \n",
    "              vmin=0, vmax=1, cmap='Greys', aspect='equal')\n",
    "    \n",
    "    # Esthetics\n",
    "    ax.set_yticks([])\n",
    "    ax.set_xticks([])\n",
    "    ax.set_xlabel(r'$\\beta$ = ' + str(sig))\n",
    "    ax.xaxis.set_label_position(position='top')\n",
    "\n",
    "    # If first plot, put title\n",
    "    if i == 0:\n",
    "        ax.set_title(r'Softmax $\\beta$', pad=pad)\n",
    "\n",
    "\n",
    "#########################################################\n",
    "################# BEHAVIORAL RESULTS ####################\n",
    "#########################################################\n",
    "\n",
    "#################### Memory decay #######################\n",
    "\n",
    "# Declare axis\n",
    "ax0 = plt.subplot2grid((n_row, n_col), (6, 0), rowspan=4, colspan=2)\n",
    "\n",
    "# Plot\n",
    "for j, musi in enumerate(np.unique(MUSICIANS)):\n",
    "    m = np.nanmean(ESTIMATES[MUSICIANS[:, 0, 0] == musi, 1], 0)\n",
    "    se = np.nanstd(ESTIMATES[MUSICIANS[:, 0, 0] == musi, 1], 0)/np.sqrt(np.sum(MUSICIANS[:, 0, 0] == musi))\n",
    "    ax0.errorbar(j, m, yerr=se, marker='D', linewidth=2, markersize=7, \n",
    "                 color=colors[j])\n",
    "\n",
    "for s, suj in enumerate(sujs):\n",
    "    ax0.plot(MUSICIANS[s, 0, 0], ESTIMATES[s, 1], marker='o', \n",
    "            linewidth=1, color=colors[MUSICIANS[s, 0, 0]], linestyle='--', markersize=2, alpha=0.3)\n",
    "\n",
    "    \n",
    "####################### Matrix ##########################\n",
    "\n",
    "# Declare axis\n",
    "ax2 = plt.subplot2grid((n_row, n_col), (6, 3), rowspan=4, colspan=2)\n",
    "\n",
    "# Plot\n",
    "for j, musi in enumerate(np.unique(MUSICIANS)):\n",
    "    y1 = np.nansum(ESTIMATES[MUSICIANS[:, 0, 0] == musi, 0] == 1)\n",
    "    y2 = np.nansum(ESTIMATES[MUSICIANS[:, 0, 0] == musi, 0] == 2)\n",
    "    ax2.bar(j, y2, bottom=y1, color=colors[j], width=0.3, alpha=0.4, label='K=2')\n",
    "    ax2.bar(j, y1, color=colors[j], width=0.3, alpha=0.2, label='K=1')\n",
    "    if j == 0: ax2.legend(loc=2, bbox_to_anchor=(1.05, 1))\n",
    "\n",
    "\n",
    "###################### Softmax ##########################\n",
    "\n",
    "# Declare axis\n",
    "ax3 = plt.subplot2grid((n_row, n_col), (6, 6), rowspan=4, colspan=2)\n",
    "\n",
    "# Plot\n",
    "for j, musi in enumerate(np.unique(MUSICIANS)):\n",
    "    m = np.nanmean(ESTIMATES[MUSICIANS[:, 0, 0] == musi, 2], 0)\n",
    "    se = np.nanstd(ESTIMATES[MUSICIANS[:, 0, 0] == musi, 2], 0)/np.sqrt(np.sum(MUSICIANS[:, 0, 0] == musi))\n",
    "    ax3.errorbar(j, m, yerr=se, marker='D', linewidth=2, markersize=7, \n",
    "                 color=colors[j])\n",
    "\n",
    "for s, suj in enumerate(sujs):\n",
    "    ax3.plot(MUSICIANS[s, 0, 0], ESTIMATES[s, 2], marker='o', \n",
    "            linewidth=1, color=colors[MUSICIANS[s, 0, 0]], linestyle='--', markersize=2, alpha=0.3)\n",
    "\n",
    "\n",
    "##################### Esthetics #########################\n",
    "\n",
    "# Esthetics\n",
    "for (ax, letter, log, (ymin, ymax), title, ylabel, text_sig, ytick) in zip(\n",
    "    [ax0, ax2, ax3], \n",
    "    ['B', 'C', 'D'],\n",
    "    [True, False, True],\n",
    "    [(2, 100), (0, 30), (2, 0.2)], \n",
    "    ['Memory decay $\\hat{\\lambda}$', 'Model order $\\hat{K}$', r'Selection noise $\\hat{\\beta}$'], \n",
    "    ['$\\hat{\\lambda}$', '$N$', r'$\\hat{\\beta}$'], \n",
    "    ('ns', '*', '***'), \n",
    "    yticks\n",
    "):\n",
    "    \n",
    "    ax.set_xticks(np.arange(2))\n",
    "    ax.set_xticklabels(['Non-m.', 'Mus.'])\n",
    "    ax.set_ylabel(ylabel)\n",
    "    ax.set_title(title, fontweight='bold')\n",
    "    ax.set_xlim(-0.3, 1.3)\n",
    "    ax.spines['right'].set_visible(False)\n",
    "    ax.spines['top'].set_visible(False)\n",
    "    ax.set_ylim(ymin, ymax)\n",
    "\n",
    "    # Panel letter\n",
    "    ax.text(-0.8, 1.1, letter, transform=ax.transAxes, fontsize=letter_size, fontweight='bold')\n",
    "\n",
    "    # Significance stars\n",
    "    x1, x2 = [0.1, 0.9]\n",
    "    yrange = ax.get_ylim()[1] - ax.get_ylim()[0]\n",
    "    y, h, col = ax.get_ylim()[1] - yrange/2, 0, 'k'\n",
    "    ax.plot([x1, x1, x2, x2], [y, y+h, y+h, y], lw=1, c=col)\n",
    "    ax.text((x1+x2)*.5, y+h, text_sig, ha='center', va='bottom', color=col)\n",
    "\n",
    "    # Log values\n",
    "    if log:\n",
    "        ax.set_yscale('log')\n",
    "        ax.get_yaxis().set_major_formatter(ticker.ScalarFormatter())\n",
    "        ax.yaxis.set_minor_formatter(ticker.NullFormatter())\n",
    "        ax.yaxis.set_minor_locator(ticker.NullLocator())\n",
    "        ax.set_yticks(np.logspace(*np.log10([ymin, ymax]), num=3, base=10))\n",
    "        ax.set_yticklabels(ytick)\n",
    "\n",
    "plt.tight_layout()"
   ]
  },
  {
   "cell_type": "code",
   "execution_count": null,
   "metadata": {},
   "outputs": [],
   "source": [
    "fname = '/media/jacques/DATA1/2019_MusicPred/experimentContinuousMatrix/analysis/Figures/Figure_2.png'\n",
    "fig.savefig(fname, bbox_inches='tight')"
   ]
  },
  {
   "cell_type": "code",
   "execution_count": null,
   "metadata": {},
   "outputs": [],
   "source": []
  }
 ],
 "metadata": {
  "kernelspec": {
   "display_name": "Python 3",
   "language": "python",
   "name": "python3"
  },
  "language_info": {
   "codemirror_mode": {
    "name": "ipython",
    "version": 3
   },
   "file_extension": ".py",
   "mimetype": "text/x-python",
   "name": "python",
   "nbconvert_exporter": "python",
   "pygments_lexer": "ipython3",
   "version": "3.8.5"
  }
 },
 "nbformat": 4,
 "nbformat_minor": 2
}
