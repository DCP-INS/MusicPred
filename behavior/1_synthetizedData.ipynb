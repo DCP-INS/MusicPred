{
 "cells": [
  {
   "cell_type": "markdown",
   "metadata": {},
   "source": [
    "# Import and export data."
   ]
  },
  {
   "cell_type": "code",
   "execution_count": null,
   "metadata": {},
   "outputs": [],
   "source": [
    "import os\n",
    "import glob\n",
    "import numpy as np\n",
    "import pandas as pd\n",
    "import matplotlib.pyplot as plt"
   ]
  },
  {
   "cell_type": "markdown",
   "metadata": {},
   "source": [
    "### Import dataset."
   ]
  },
  {
   "cell_type": "code",
   "execution_count": null,
   "metadata": {},
   "outputs": [],
   "source": [
    "# Files\n",
    "dname = '/media/jacques/DATA/2019_MusicPred/experimentContinuousMatrix/data/behavior/'\n",
    "fnames = glob.glob(dname + '*.xpd')\n",
    "\n",
    "# Import dataframe\n",
    "var_names = ('suj', 'condition', 'i_seq', 'bloc', 'trial', 'i_tone', 'decision', 'resp', 'rt', 'accurate')\n",
    "DF = pd.DataFrame(columns=var_names)\n",
    "for i, fname in enumerate(fnames):\n",
    "    data = np.loadtxt(fname, skiprows=12, delimiter=',', \n",
    "                      dtype={'formats': ('i4', 'S12', 'i4', 'i4', 'i4', 'i4', 'S10', 'S10', 'S10', 'S10'), \n",
    "                             'names': var_names})\n",
    "    _df = pd.DataFrame(data, columns=var_names)\n",
    "    #_df.loc[:, 'suj'] += i\n",
    "    DF = DF.append(_df, ignore_index=True)"
   ]
  },
  {
   "cell_type": "code",
   "execution_count": null,
   "metadata": {},
   "outputs": [],
   "source": [
    "fnames"
   ]
  },
  {
   "cell_type": "code",
   "execution_count": null,
   "metadata": {},
   "outputs": [],
   "source": [
    "DF = DF.loc[DF['condition'] == 'experimental']"
   ]
  },
  {
   "cell_type": "code",
   "execution_count": null,
   "metadata": {},
   "outputs": [],
   "source": [
    "DF.loc[DF['decision'] == 'True', 'decision'] = True\n",
    "DF.loc[DF['decision'] == 'None', 'decision'] = False\n",
    "DF.loc[DF['resp'] == 'None', 'resp'] = np.nan\n",
    "DF.loc[DF['rt'] == 'None', 'rt'] = np.nan"
   ]
  },
  {
   "cell_type": "code",
   "execution_count": null,
   "metadata": {},
   "outputs": [],
   "source": [
    "DF['difficulty'] = np.mod(DF['i_seq'], 2) + 1"
   ]
  },
  {
   "cell_type": "markdown",
   "metadata": {},
   "source": [
    "### Get dimensions."
   ]
  },
  {
   "cell_type": "code",
   "execution_count": null,
   "metadata": {},
   "outputs": [],
   "source": [
    "sujs = DF['suj'].unique()\n",
    "blocs = DF['bloc'].unique()\n",
    "i_seqs = DF['i_seq'].unique()\n",
    "n_sujs = sujs.size\n",
    "n_blocs = blocs.size\n",
    "n_seqs = i_seqs.size\n",
    "N_VOC = DF['i_tone'].unique().size\n",
    "n_tones = DF['trial'].unique().size\n",
    "n_dec = np.sum(DF.loc[DF['suj'] == sujs[-1], 'decision']) / n_seqs\n",
    "print(n_sujs, n_blocs, n_seqs, n_tones, N_VOC, n_dec)"
   ]
  },
  {
   "cell_type": "markdown",
   "metadata": {},
   "source": [
    "### Build arrays of data."
   ]
  },
  {
   "cell_type": "code",
   "execution_count": null,
   "metadata": {},
   "outputs": [],
   "source": [
    "MUSICIANS = np.array([1, 1, 1, 1, 1, 1, 1, 1, 1, 1, 1, 1, 1, 1, 1, 1, 1, 1, 1,\n",
    "                      0, 0, 0, 0, 0, 0, 0, 0, 0, 0, 0, 0, 0, 0, 0, 0, \n",
    "                      0, 0, 0, 0, 0, 0, 1, 1, 1, 1, 1, 1, 0, 1, 0, 0, 1, 0], dtype=np.bool)\n",
    "MUSICIANS = np.tile(MUSICIANS, (n_tones, n_seqs, 1)).T\n",
    "MUSICIANS.shape"
   ]
  },
  {
   "cell_type": "code",
   "execution_count": null,
   "metadata": {},
   "outputs": [],
   "source": [
    "CHOICES = np.full((n_sujs, n_seqs, n_dec), np.nan) # Choice made by the participant\n",
    "DEC = np.full((n_sujs, n_seqs, n_tones), np.nan) # Whether the tones \"ask\" a decision or not\n",
    "SEQS = np.full((n_sujs, n_seqs, n_tones), np.nan) # The sequence of played tones\n",
    "PERF = np.full((n_sujs, n_seqs, n_dec), np.nan) # Whether the participant made a correct choice or not\n",
    "RT = np.full((n_sujs, n_seqs, n_dec), np.nan) # Reaction time\n",
    "SEQ_ID = np.full((n_sujs, n_seqs), np.nan) # Sequence identity\n",
    "SEQS.shape"
   ]
  },
  {
   "cell_type": "code",
   "execution_count": null,
   "metadata": {},
   "outputs": [],
   "source": [
    "for s, suj in enumerate(sujs):\n",
    "    for i, i_seq in enumerate(DF.loc[DF['suj'] == suj, 'i_seq'].unique()):\n",
    "\n",
    "        # Retrieve sequence\n",
    "        select = np.logical_and(DF['i_seq'] == i_seq, DF['suj'] == suj)\n",
    "        seq = np.array(DF.loc[select, 'i_tone'], dtype=np.int)\n",
    "        if seq.size == 0: continue\n",
    "        \n",
    "        # Sequence\n",
    "        SEQS[s, i] = seq.copy()\n",
    "        SEQ_ID[s, i] = i_seq\n",
    "        \n",
    "        # Decision\n",
    "        idx_pred = np.array(DF.loc[select, 'decision'], dtype=np.bool)\n",
    "        DEC[s, i] = idx_pred.copy()\n",
    "        \n",
    "        # Choices\n",
    "        choices = np.array(DF.loc[select, 'resp'], dtype=np.float)\n",
    "        CHOICES[s, i] = choices[idx_pred].copy()\n",
    "\n",
    "        # Response time\n",
    "        RT[s, i] = np.array(DF.loc[select, 'rt'], dtype=np.float)[idx_pred]\n",
    "\n",
    "        # Performance\n",
    "        if seq[idx_pred].size == 0: continue\n",
    "        PERF[s, i] = seq[idx_pred] == choices[idx_pred]\n",
    "        PERF[s, i][np.isnan(choices[idx_pred])] = np.nan"
   ]
  },
  {
   "cell_type": "markdown",
   "metadata": {},
   "source": [
    "### Save all arrays."
   ]
  },
  {
   "cell_type": "code",
   "execution_count": null,
   "metadata": {},
   "outputs": [],
   "source": [
    "np.save(dname + 'MUSICIANS', MUSICIANS)\n",
    "np.save(dname + 'CHOICES', CHOICES)\n",
    "np.save(dname + 'DEC', DEC)\n",
    "np.save(dname + 'SEQS', SEQS)\n",
    "np.save(dname + 'PERF', PERF)\n",
    "np.save(dname + 'RT', RT)\n",
    "np.save(dname + 'SEQ_ID', SEQ_ID)\n",
    "np.save(dname + 'sujs', sujs)"
   ]
  },
  {
   "cell_type": "code",
   "execution_count": null,
   "metadata": {},
   "outputs": [],
   "source": []
  }
 ],
 "metadata": {
  "kernelspec": {
   "display_name": "Python 3",
   "language": "python",
   "name": "python3"
  },
  "language_info": {
   "codemirror_mode": {
    "name": "ipython",
    "version": 3
   },
   "file_extension": ".py",
   "mimetype": "text/x-python",
   "name": "python",
   "nbconvert_exporter": "python",
   "pygments_lexer": "ipython3",
   "version": "3.8.5"
  }
 },
 "nbformat": 4,
 "nbformat_minor": 2
}
